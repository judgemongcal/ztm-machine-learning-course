{
 "cells": [
  {
   "cell_type": "markdown",
   "id": "1e3abf2c-c99a-44e5-a243-5eea83c5c11d",
   "metadata": {},
   "source": [
    "# Predicting the Sales Price of Bulldozers using Machine Learning\n",
    "\n",
    "In this notebook, we're going to go through an example machine learning project with the goal of predicting the sale price of bulldozers.\n",
    "\n",
    "## 1. Problem Definition\n",
    "> How well can we predict the future slae price of a bulldozer, given its characteristics and previous examples of how much similar bulldozers have been sold for?\n",
    "\n",
    "## 2. Data\n",
    "> The data is downloaded from Kaggle - https://www.kaggle.com/competitions/bluebook-for-bulldozers/data\n",
    "\n",
    "There are 3 datasets:\n",
    "\n",
    "* Train.csv - Historical bulldozer sales examples up to 2011 (close to 400,000 examples with 50+ different attributes, including SalePrice which is the target variable).\n",
    "* Valid.csv - Historical bulldozer sales examples from January 1 2012 to April 30 2012 (close to 12,000 examples with the same attributes as Train.csv).\n",
    "* Test.csv - Historical bulldozer sales examples from May 1 2012 to November 2012 (close to 12,000 examples but missing the SalePrice attribute, as this is what we'll be trying to predict).\n",
    "\n",
    "## 3. Evaluation\n",
    "\n",
    "The evaluation metric for this is the RMSLE (Root Mean Squared Log Error) between the actual and predicted auction prices.\n",
    "\n",
    "Link - www.kaggle.com/competitions/bluebook-for-bulldozers/overview/evaluation\n",
    "\n",
    "**Note: The goal for most regression evaluation metrics is to minimize the error.**\n",
    "\n",
    "## 4. Features\n",
    "\n",
    "A Data Dictionary was provided by Kaggle for this project, it is included in the data file from their website. (See first link above)"
   ]
  },
  {
   "cell_type": "code",
   "execution_count": 3,
   "id": "bf49c335-2fa4-4f5b-91df-56714a00c504",
   "metadata": {},
   "outputs": [],
   "source": [
    "import numpy as np\n",
    "import pandas as pd\n",
    "import matplotlib.pyplot as plt\n",
    "import sklearn"
   ]
  },
  {
   "cell_type": "code",
   "execution_count": null,
   "id": "aa6cfd48-ae7e-40c1-8dfc-7735b0de34c2",
   "metadata": {},
   "outputs": [],
   "source": []
  }
 ],
 "metadata": {
  "kernelspec": {
   "display_name": "Python 3 (ipykernel)",
   "language": "python",
   "name": "python3"
  },
  "language_info": {
   "codemirror_mode": {
    "name": "ipython",
    "version": 3
   },
   "file_extension": ".py",
   "mimetype": "text/x-python",
   "name": "python",
   "nbconvert_exporter": "python",
   "pygments_lexer": "ipython3",
   "version": "3.12.4"
  }
 },
 "nbformat": 4,
 "nbformat_minor": 5
}
